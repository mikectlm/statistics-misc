{
 "cells": [
  {
   "cell_type": "markdown",
   "metadata": {},
   "source": [
    "# Investigating a Dataset - Titanic Data\n",
    "\n",
    "Which factors influenced survival on the famous ship disaster? The variables to examine:\n",
    "\n",
    "1. Passenger Age. Was there an advantage to the youth or eldery?\n",
    "2. Passenger Sex. Male or female, is there an advantage?\n",
    "3. Passenger Class. Are 1st class more likely to be saved than the 2nd or 3rd?\n",
    "4. \\# Number of Siblings/Spouses/Parents/Children on board. How does this influence survival.\n"
   ]
  },
  {
   "cell_type": "markdown",
   "metadata": {},
   "source": [
    "# Data Import"
   ]
  },
  {
   "cell_type": "code",
   "execution_count": 145,
   "metadata": {
    "collapsed": false
   },
   "outputs": [
    {
     "name": "stdout",
     "output_type": "stream",
     "text": [
      "Populating the interactive namespace from numpy and matplotlib\n"
     ]
    }
   ],
   "source": [
    "#libraries import\n",
    "from scipy.stats import chi2_contingency as chi2\n",
    "import numpy as np\n",
    "import pandas as pd\n",
    "import matplotlib.pyplot as plt\n",
    "import seaborn as sns\n",
    "%pylab inline\n",
    "\n",
    "#file load\n",
    "file_name = 'titanic-data.csv'\n",
    "main_df = pd.read_csv(file_name)"
   ]
  },
  {
   "cell_type": "code",
   "execution_count": 146,
   "metadata": {
    "collapsed": false
   },
   "outputs": [
    {
     "name": "stdout",
     "output_type": "stream",
     "text": [
      "0    549\n",
      "1    342\n",
      "Name: Survived, dtype: int64\n",
      "0    0.616162\n",
      "1    0.383838\n",
      "Name: Survived, dtype: float64\n"
     ]
    }
   ],
   "source": [
    "pop_mean_survive = main_df['Survived'].value_counts(normalize = True)[1]\n",
    "\n",
    "print main_df['Survived'].value_counts()\n",
    "\n",
    "print main_df['Survived'].value_counts(normalize = True)"
   ]
  },
  {
   "cell_type": "markdown",
   "metadata": {},
   "source": [
    "# Sample Data Analysis\n",
    "[ref]: https://www.kaggle.com/c/titanic/data \"Reference Sheet\"\n",
    "The data contains 891/2224 passengers and crew on the Titantic. Click here for the [Reference Sheet][ref] for the data values.\n",
    "\n",
    "Out of the 891 we have 342 survivors. The proportion of survivors is 0.383838\n"
   ]
  },
  {
   "cell_type": "markdown",
   "metadata": {},
   "source": [
    "#Data Cleanup\n",
    "I'd like to analyze the effects of age, sex, passenger class, passenger fare cost, and the number of close relatives on board to survivor rates and determine which effect, or perhaps which combination of effects results in greatest chance to survive the titantic shipwreck.\n",
    "\n",
    "Due to some records having incomplete information I will create dataframes that only include fields with data for the records."
   ]
  },
  {
   "cell_type": "code",
   "execution_count": 147,
   "metadata": {
    "collapsed": false
   },
   "outputs": [],
   "source": [
    "#data frame for users with age data\n",
    "main_age_df = main_df.loc[pd.notnull(main_df['Age'])]\n",
    "main_children_df = main_age_df.loc[main_age_df['Age'] < 16]\n",
    "\n",
    "#data frames for users with sex data\n",
    "main_male_df = main_df.loc[main_df['Sex'] == 'male']\n",
    "main_female_df = main_df.loc[main_df['Sex'] == 'female']\n",
    "\n",
    "#data frame for users with pClass data\n",
    "main_pclass_df = main_df.loc[pd.notnull(main_df['Pclass'])]\n",
    "\n",
    "#data frame for users with sibs on board data\n",
    "#main_sibs_df = main_df.loc[pd.notnull(main_df['SibSp'])]"
   ]
  },
  {
   "cell_type": "code",
   "execution_count": 148,
   "metadata": {
    "collapsed": true
   },
   "outputs": [],
   "source": [
    "def chi_calc(pivot):\n",
    "    chi2_val, p_value, dof, expected = chi2(pivot)\n",
    "    \n",
    "    print \"Degree of Freedom = \" + str(dof)\n",
    "    print \"Chi-Squared Score = \" + str(chi2_val)\n",
    "    print \"Pvalue = \" + str(p_value) \n",
    "    print \"Expected = \" + str(expected)"
   ]
  },
  {
   "cell_type": "code",
   "execution_count": 149,
   "metadata": {
    "collapsed": true
   },
   "outputs": [],
   "source": [
    "\n",
    "#function for printing out typical stats, as well as extra stats\n",
    "def t_calc(ds, col, pop_mean):\n",
    "    ds_mean = ds[col].mean()\n",
    "    ds_std = ds[col].std(ddof=1)\n",
    "    ds_standard_error = ds[col].sem()\n",
    "    df = ds[col].count() - 1\n",
    "    t_score = (ds_mean - pop_mean)/ds_standard_error\n",
    "    cohens_d = (ds_mean - pop_mean)/ds_std\n",
    "    \n",
    "    col_length = len(col) + 22\n",
    "    \n",
    "    print \"Population Mean: \".rjust(col_length) + str(pop_mean)\n",
    "    print (col + \" Sample Mean: \").rjust(col_length) + str(ds_mean)\n",
    "    print (col + \" Std Deviation: \").rjust(col_length) + str(ds_std)\n",
    "    print (col + \" Standard Error: \").rjust(col_length) + str(ds_standard_error)\n",
    "    print (col + \" Degrees of Freedom: \").rjust(col_length) + str(df)\n",
    "    print (col + \" t score: \").rjust(col_length) + str(t_score)\n",
    "    print (col + \" Margin of Error: \").rjust(col_length) + \"(\" + str(ds_mean - ds_standard_error) + \",\" + str(ds_mean + ds_standard_error) + \")\"\n",
    "    print (col + \" Cohen's D: \").rjust(col_length) + str(cohens_d)"
   ]
  },
  {
   "cell_type": "markdown",
   "metadata": {},
   "source": [
    "# Age Statistics\n",
    "I started with collecting the population mean and standard deviation of ages and printing out general information I then calculated the mean ages of survivors only, calculated standard error from the mean pop, and calculated a t-score for the survivor mean.\n"
   ]
  },
  {
   "cell_type": "code",
   "execution_count": 150,
   "metadata": {
    "collapsed": false,
    "scrolled": true
   },
   "outputs": [
    {
     "name": "stdout",
     "output_type": "stream",
     "text": [
      "Information on All Passenger Ages\n",
      "count    714.000000\n",
      "mean      29.699118\n",
      "std       14.526497\n",
      "min        0.420000\n",
      "25%       20.125000\n",
      "50%       28.000000\n",
      "75%       38.000000\n",
      "max       80.000000\n",
      "Name: Age, dtype: float64\n",
      "\n",
      "Information Grouped by 0 (did not survive) and 1 (survived)\n",
      "   count       mean        std   min   25%   50%   75%   max\n",
      "0  424.0  30.626179  14.172110  1.00  21.0  28.0  39.0  74.0\n",
      "1  290.0  28.343690  14.950952  0.42  19.0  28.0  36.0  80.0\n"
     ]
    }
   ],
   "source": [
    "\n",
    "\n",
    "mean_of_ages = main_age_df['Age'].mean()\n",
    "\n",
    "print 'Information on All Passenger Ages'\n",
    "print main_age_df['Age'].describe()\n",
    "print ''\n",
    "print \"Information Grouped by 0 (did not survive) and 1 (survived)\"\n",
    "print main_age_df.groupby('Survived', as_index = False)['Age'].describe()\n"
   ]
  },
  {
   "cell_type": "markdown",
   "metadata": {},
   "source": [
    "# Age Analysis\n",
    "\n",
    "H-null: (Mean of Ages of Population) = (Mean Age of Survivors)\n",
    "\n",
    "H-alt: (Mean of Ages of Population) != (Mean Age of Survivors)\n",
    "\n",
    "Therefore I will perform a 1 sample 2 tailed t-test with alpha levels 0.05\n"
   ]
  },
  {
   "cell_type": "code",
   "execution_count": 151,
   "metadata": {
    "collapsed": false
   },
   "outputs": [
    {
     "name": "stdout",
     "output_type": "stream",
     "text": [
      "        Population Mean: 29.6991176471\n",
      "        Age Sample Mean: 28.3436896552\n",
      "      Age Std Deviation: 14.9509519841\n",
      "     Age Standard Error: 0.877950130608\n",
      " Age Degrees of Freedom: 289\n",
      "            Age t score: -1.54385533373\n",
      "    Age Margin of Error: (27.4657395246,29.2216397858)\n",
      "          Age Cohen's D: -0.0906583067971\n"
     ]
    }
   ],
   "source": [
    "t_calc(main_age_df.loc[main_age_df['Survived'] == 1], 'Age', mean_of_ages)"
   ]
  },
  {
   "cell_type": "markdown",
   "metadata": {},
   "source": [
    "<table>\n",
    "<tr>\n",
    "    <td>Statistic</td>\n",
    "    <td>Value</td>\n",
    "</tr>\n",
    "<tr>\n",
    "    <td>t-critcal</td>\n",
    "    <td>+/-1.9682</td>\n",
    "</tr>\n",
    "<tr>\n",
    "    <td>t-score</td>\n",
    "    <td>-1.54385533373</td>\n",
    "</tr>\n",
    "<tr>\n",
    "    <td>p-score</td>\n",
    "    <td>0.1237</td>\n",
    "</tr>\n",
    "</table>\n",
    "\n",
    "t-critical and p-score calculated with http://www.graphpad.com/quickcalcs/pValue2/ \n",
    "\n",
    "With the t-score and corresponding p-score we can accept H-null that the difference in age in survivors to the total population is not significant. The below histogram also illustrate the the closeness of the values"
   ]
  },
  {
   "cell_type": "code",
   "execution_count": 152,
   "metadata": {
    "collapsed": false
   },
   "outputs": [
    {
     "data": {
      "text/plain": [
       "<matplotlib.legend.Legend at 0x1047de48>"
      ]
     },
     "execution_count": 152,
     "metadata": {},
     "output_type": "execute_result"
    },
    {
     "data": {
      "image/png": "[encoded data removed]",
      "text/plain": [
       "<matplotlib.figure.Figure at 0x108e7a90>"
      ]
     },
     "metadata": {},
     "output_type": "display_data"
    }
   ],
   "source": [
    "plt.title(\"Histogram of Titantic Passengers Age Groups\")\n",
    "plt.ylabel(\"Totals\")\n",
    "plt.xlabel(\"Age Groups\")\n",
    "plt.hist(main_age_df['Age'], label='Passengers')\n",
    "plt.hist(main_age_df.loc[main_age_df['Survived'] == 1]['Age'], label='Survivors')\n",
    "plt.legend()"
   ]
  },
  {
   "cell_type": "markdown",
   "metadata": {},
   "source": [
    "I noticed in the Histogram of Titantic Passengers Age groups the first bin from 0-10 was nearer to the total for any other bin.\n",
    "\n",
    "Let's investigate the children survival rate assuming children were consider under 16 years of age. "
   ]
  },
  {
   "cell_type": "markdown",
   "metadata": {},
   "source": [
    "# Children Survival Analysis\n",
    "\n",
    "H-null: Age and Surviving are independent\n",
    "\n",
    "H-alt: Age and Surviving are not independent\n",
    "\n",
    "Therefore I will perform a chi test for independence with significant levels of 0.05\n",
    "\n"
   ]
  },
  {
   "cell_type": "code",
   "execution_count": 153,
   "metadata": {
    "collapsed": false
   },
   "outputs": [
    {
     "name": "stdout",
     "output_type": "stream",
     "text": [
      "   under16  under55   old\n",
      "0     34.0    361.0  29.0\n",
      "1     49.0    228.0  13.0\n",
      "\n",
      "Degree of Freedom = 2\n",
      "Chi-Squared Score = 14.1896676576\n",
      "Pvalue = 0.000829378586308\n",
      "Expected = [[  49.28851541  349.77030812   24.94117647]\n",
      " [  33.71148459  239.22969188   17.05882353]]\n"
     ]
    }
   ],
   "source": [
    "full_ages_pivot = pd.pivot_table(data = main_age_df[['Survived', 'Age']], index = 'Survived', columns = ['Age'], aggfunc = len, fill_value=0)\n",
    "\n",
    "#print full_ages_pivot\n",
    "\n",
    "#create a pivot of age categories, under 16, 16 to 55, and older than 55\n",
    "categorized_ages = pd.DataFrame(0, index= {0,1}, columns={'under16','under55', 'old' }, dtype='float')\n",
    "\n",
    "#print categorized_ages\n",
    "\n",
    "for col in full_ages_pivot.columns.values:    \n",
    "    if col < 16:\n",
    "        categorized_ages['under16'][0] = categorized_ages['under16'][0] + full_ages_pivot[col][0]\n",
    "        categorized_ages['under16'][1] = categorized_ages['under16'][1] + full_ages_pivot[col][1]\n",
    "    elif col < 55: \n",
    "        categorized_ages['under55'][0] = categorized_ages['under55'][0] + full_ages_pivot[col][0]\n",
    "        categorized_ages['under55'][1] = categorized_ages['under55'][1] + full_ages_pivot[col][1]\n",
    "    else:\n",
    "        categorized_ages['old'][0] = categorized_ages['old'][0] + full_ages_pivot[col][0]\n",
    "        categorized_ages['old'][1] = categorized_ages['old'][1] + full_ages_pivot[col][1]\n",
    "\n",
    "print categorized_ages\n",
    "print ''\n",
    "\n",
    "chi_calc(categorized_ages)\n",
    "\n"
   ]
  },
  {
   "cell_type": "markdown",
   "metadata": {},
   "source": [
    "Witha p ~ 0.0008 we can reject the null hypothesis. When analyzing for the entire distribution of age ranges there is no significant difference, but when we categorize into common age groups we see there is difference. \n",
    "\n",
    "The under 16 group in particular has higher survival count in comparison to the other two groups. We an say age correlated to survival for this particular group."
   ]
  },
  {
   "cell_type": "markdown",
   "metadata": {
    "collapsed": true
   },
   "source": [
    "# Gender Analysis\n",
    "\n",
    "H-null: Sex and Surviving are independent\n",
    "\n",
    "H-alt: Sex and Surviving are not independent\n",
    "\n",
    "Therefore I will perform a chi test for independence with significant levels of 0.05\n",
    "\n"
   ]
  },
  {
   "cell_type": "code",
   "execution_count": 154,
   "metadata": {
    "collapsed": false
   },
   "outputs": [
    {
     "name": "stdout",
     "output_type": "stream",
     "text": [
      "Sex       female  male\n",
      "Survived              \n",
      "0             64   360\n",
      "1            197    93\n",
      "Degree of Freedom = 1\n",
      "Chi-Squared Score = 205.025827529\n",
      "Pvalue = 1.67166784414e-46\n",
      "Expected = [[ 154.99159664  269.00840336]\n",
      " [ 106.00840336  183.99159664]]\n"
     ]
    }
   ],
   "source": [
    "sexy_pivot = pd.pivot_table(data = main_age_df[['Survived', 'Sex']], index = 'Survived', columns = ['Sex'], aggfunc = len, fill_value=0)\n",
    "\n",
    "print sexy_pivot\n",
    "\n",
    "chi_calc(sexy_pivot)"
   ]
  },
  {
   "cell_type": "markdown",
   "metadata": {},
   "source": [
    "With p ~ 0.0001 we can reject the null hypothesis.  Sex appears to play a factor in determining survival on the titantic."
   ]
  },
  {
   "cell_type": "markdown",
   "metadata": {},
   "source": [
    "# Passenger Class Analysis\n",
    "\n",
    "H-null: Passenger Class and Surviving are independent\n",
    "H-alt: Passenger Class and Surviving are not independent\n",
    "Therefore I will perform a chi test for independence with significant levels of 0.05\n",
    "\n"
   ]
  },
  {
   "cell_type": "code",
   "execution_count": 155,
   "metadata": {
    "collapsed": false
   },
   "outputs": [
    {
     "name": "stdout",
     "output_type": "stream",
     "text": [
      "Pclass      1   2    3\n",
      "Survived              \n",
      "0          64  90  270\n",
      "1         122  83   85\n"
     ]
    }
   ],
   "source": [
    "classy_pivot = pd.pivot_table(data = main_age_df[['Survived', 'Pclass']], index = 'Survived', columns = ['Pclass'], aggfunc = len, fill_value=0)\n",
    "print classy_pivot"
   ]
  },
  {
   "cell_type": "markdown",
   "metadata": {},
   "source": [
    "From the data source:\n",
    "\n",
    "https://www.kaggle.com/c/titanic/data\n",
    "\n",
    "Pclass is a proxy for socio-economic status (SES)\n",
    " 1st ~ Upper; 2nd ~ Middle; 3rd ~ Lower"
   ]
  },
  {
   "cell_type": "code",
   "execution_count": 156,
   "metadata": {
    "collapsed": false
   },
   "outputs": [
    {
     "data": {
      "image/png": "[encoded data removed]",
      "text/plain": [
       "<matplotlib.figure.Figure at 0x10beb2e8>"
      ]
     },
     "metadata": {},
     "output_type": "display_data"
    }
   ],
   "source": [
    "fig = plt.figure()\n",
    "ax = fig.gca()\n",
    "\n",
    "plot_vals = main_pclass_df.groupby('Pclass')['PassengerId'].count()\n",
    "plot_labs = plot_vals.index.values\n",
    "\n",
    "survived_plot_vals = main_pclass_df.loc[main_pclass_df['Survived'] == 1].groupby('Pclass')['PassengerId'].count()\n",
    "survived_plot_labs = plot_vals.index.values\n",
    "\n",
    "#ax.title(\"Diagram of Survivors by Passenger Class\")\n",
    "\n",
    "ax.pie(plot_vals, labels=plot_labs, colors=('y', 'g', 'r'), autopct='%1.1f%%', \n",
    "       shadow=True, startangle=90, center = (0, 1), radius=1)\n",
    "#plt.axis('equal')\n",
    "\n",
    "ax.pie(survived_plot_vals, labels=survived_plot_labs, colors=('y', 'g', 'r'), autopct='%1.1f%%',\n",
    "       shadow=True, startangle=90, center = (3, 1), radius=1)\n",
    "#plt.axis('equal')\n",
    "\n",
    "ax.set_aspect('equal')"
   ]
  },
  {
   "cell_type": "markdown",
   "metadata": {},
   "source": [
    "Based on the counts and the above histogram we can see the 1st class has the highest number of survivors but only 2nd most number of passengers. "
   ]
  },
  {
   "cell_type": "code",
   "execution_count": 157,
   "metadata": {
    "collapsed": false
   },
   "outputs": [
    {
     "name": "stdout",
     "output_type": "stream",
     "text": [
      "Degree of Freedom = 2\n",
      "Chi-Squared Score = 92.9014172114\n",
      "Pvalue = 6.70986174976e-21\n",
      "Expected = [[ 110.45378151  102.73389356  210.81232493]\n",
      " [  75.54621849   70.26610644  144.18767507]]\n"
     ]
    }
   ],
   "source": [
    "chi_calc(classy_pivot)"
   ]
  },
  {
   "cell_type": "markdown",
   "metadata": {},
   "source": [
    "With p ~ 0.0001 we can reject the null hypothesis. The statistics suggest passenger class influences survival on the titantic"
   ]
  },
  {
   "cell_type": "markdown",
   "metadata": {},
   "source": [
    "# Sibling/Parents On board Analysis\n",
    "\n",
    "H-null: Sibling/Parents on board and Surviving are independent\n",
    "\n",
    "H-alt: Siblings/Parents on board are not independent\n",
    "\n",
    "Therefore I will perform a chi test for independence with significant levels of 0.05"
   ]
  },
  {
   "cell_type": "code",
   "execution_count": 158,
   "metadata": {
    "collapsed": false
   },
   "outputs": [
    {
     "name": "stdout",
     "output_type": "stream",
     "text": [
      "    SibSp  Parch  PassengerId\n",
      "0       0      0          537\n",
      "1       0      1           38\n",
      "2       0      2           29\n",
      "3       0      3            1\n",
      "4       0      4            1\n",
      "5       0      5            2\n",
      "6       1      0          123\n",
      "7       1      1           57\n",
      "8       1      2           19\n",
      "9       1      3            3\n",
      "10      1      4            3\n",
      "11      1      5            3\n",
      "12      1      6            1\n",
      "13      2      0           16\n",
      "14      2      1            7\n",
      "15      2      2            4\n",
      "16      2      3            1\n",
      "17      3      0            2\n",
      "18      3      1            7\n",
      "19      3      2            7\n",
      "20      4      1            9\n",
      "21      4      2            9\n",
      "22      5      2            5\n",
      "23      8      2            7\n"
     ]
    }
   ],
   "source": [
    "print main_df.groupby(['SibSp', 'Parch'], as_index = False)['PassengerId'].count()"
   ]
  },
  {
   "cell_type": "markdown",
   "metadata": {},
   "source": [
    "We can see from above there is a high number of passengers without either siblings or parents on board. The next codeblock seperates the two passenger groups (with and without siblings/parents)"
   ]
  },
  {
   "cell_type": "code",
   "execution_count": 159,
   "metadata": {
    "collapsed": false
   },
   "outputs": [],
   "source": [
    "main_without_sibspar_df = main_df.loc[main_df['SibSp'] == 0].merge(main_df.loc[main_df['Parch'] == 0])\n",
    "\n",
    "main_with_sibspar_df = main_df.loc[main_df['SibSp'] != 0].merge(main_df.loc[main_df['Parch'] != 0], how='outer')\n",
    "\n",
    "# adding a total relative column to the sibspar df\n",
    "main_with_sibspar_df['Total_Rel'] = main_with_sibspar_df['SibSp'] + main_with_sibspar_df['Parch']\n"
   ]
  },
  {
   "cell_type": "code",
   "execution_count": 160,
   "metadata": {
    "collapsed": false,
    "scrolled": true
   },
   "outputs": [
    {
     "data": {
      "text/plain": [
       "<matplotlib.legend.Legend at 0xf5c5898>"
      ]
     },
     "execution_count": 160,
     "metadata": {},
     "output_type": "execute_result"
    },
    {
     "data": {
      "image/png": "[encoded data removed]",
      "text/plain": [
       "<matplotlib.figure.Figure at 0xcf4d860>"
      ]
     },
     "metadata": {},
     "output_type": "display_data"
    }
   ],
   "source": [
    "plt.title(\"Histogram of Titantic Survivors vs Total Titanic Sample (for passengers with close relatives)\")\n",
    "plt.ylabel(\"Total Passengers\")\n",
    "plt.xlabel(\"Total Number of Relatives \")\n",
    "plt.xlim([1, 10])\n",
    "\n",
    "plt.hist(main_with_sibspar_df['Total_Rel'], label='Total')\n",
    "plt.hist(main_with_sibspar_df.loc[main_with_sibspar_df['Survived'] == 1]['Total_Rel'], label='Survived')\n",
    "plt.legend()"
   ]
  },
  {
   "cell_type": "markdown",
   "metadata": {},
   "source": [
    "In the above histogram it demonstrates having 3 total relatives on board correlates to higher survival in comparison to other values."
   ]
  },
  {
   "cell_type": "code",
   "execution_count": 161,
   "metadata": {
    "collapsed": false
   },
   "outputs": [
    {
     "name": "stdout",
     "output_type": "stream",
     "text": [
      "Total_Rel  1.0   2.0   3.0   4.0   5.0   6.0   7.0   10.0\n",
      "Survived                                                 \n",
      "0.0          72    43     8    12    19     8     6     7\n",
      "1.0          89    59    21     3     3     4     0     0\n",
      "Degree of Freedom = 7\n",
      "Chi-Squared Score = 41.4622141947\n",
      "Pvalue = 6.59887089072e-07\n",
      "Expected = [[ 79.59039548  50.42372881  14.33615819   7.41525424  10.87570621\n",
      "    5.93220339   2.96610169   3.46045198]\n",
      " [ 81.40960452  51.57627119  14.66384181   7.58474576  11.12429379\n",
      "    6.06779661   3.03389831   3.53954802]]\n"
     ]
    }
   ],
   "source": [
    "\n",
    "\n",
    "total_piv = pd.pivot_table(data = main_with_sibspar_df[['Survived', 'Total_Rel']], index = 'Survived', columns = ['Total_Rel'], aggfunc = len, fill_value=0)\n",
    "\n",
    "print total_piv\n",
    "#without_piv = pd.pivot_table(data = main_without_sibspar_df['Survived'], index = 'Survived', columns = ['Survived'], aggfunc = len, fill_value=0)\n",
    "\n",
    "#print sib_piv\n",
    "\n",
    "chi_calc(total_piv)\n",
    "\n",
    "\n"
   ]
  },
  {
   "cell_type": "markdown",
   "metadata": {},
   "source": [
    "With p ~ 0.0001 we can reject the null hypothesis. The statistics suggest siblings or parents on board influence survival on the titantic"
   ]
  },
  {
   "cell_type": "markdown",
   "metadata": {},
   "source": [
    "# Conclusions\n",
    "\n",
    "Based on the above statistics, the following variables correlate to higher likelihood of survival of the Titantic\n",
    "\n",
    "* Passenger age \n",
    "* Passenger Sex\n",
    "* Passenger Class\n",
    "* Riding with siblings or parents.\n",
    "\n",
    "This is not to say these factors caused the passenger survival. \n",
    "\n",
    "I used the chi-test throughout the analysis since we used categorical data. Alas, we can demonstrate dependability with this but cannot make much further inferences. I have confidence the tests demonstrate adequately that there is correlation with the above variables to survival.\n",
    "\n",
    "I assumed sex and age would be factors. 'Women and children first' was a common maritime code so it came this should be obvious.\n",
    "\n",
    "In fact, I found all influencing characteristics in each of the 4 variables. \n",
    "\n",
    "Investigating the ages of survivors as a whole showed there was not a sigficant impact as an entire group. However, it provided a clue to look deeper at the survivability of young people on the ship. Therefore I performed the chi test with grouped data on the population. Here it was found the group under 16 years of age do have a higher chance of survival, than the rest of the population.\n",
    "\n",
    "Based on counts alone for sexes it was shown female had higher survivability compared to men which was much lower. With regards to the maritime code, there was also speculation that some of the officers onboard the Titantic misinterpreted this as 'women and children only', as many lifeboats were not at capacity and were being released to the water if women and children were not around to fill the seats. \n",
    "\n",
    "https://en.wikipedia.org/wiki/RMS_Titanic\n",
    "\n",
    "Passenger class also affected survival. Based on counts/proportion we can infer 1st and 2nd class had a higher chance to survive. It would be interesting to analyze this further, especially with regards to the boat structure and where the lifeboats were in regards to the class sections.\n",
    "\n",
    "Finally, in analyzing passengers riding with siblings or parents it was found there was also a correlation. Based on the \"Histogram of Titantic Survivors vs Total Titanic Sample (for passengers with close relatives)\" it seems that groups beyond a certain size (4 total) had better survivability than the smaller groups. This statistic is interesting, since it correlates travelling in a group will net you a better outcome in a disaster. It would be interesting to see data on husband/wife entries as well. I am not confident with this statistic personally, as I am with the age, sex and class.\n",
    "\n",
    "For example, single riders fared worse than the average. However, majority of single riders (411/537) were men as well, and more than half (264) where in the 3rd class. Should the single rider's unluck be attributed to their being alone? One would think if you are looking after yourself you should be able to get to safety.\n",
    "\n"
   ]
  },
  {
   "cell_type": "code",
   "execution_count": null,
   "metadata": {
    "collapsed": true
   },
   "outputs": [],
   "source": []
  }
 ],
 "metadata": {
  "anaconda-cloud": {},
  "kernelspec": {
   "display_name": "Python [conda root]",
   "language": "python",
   "name": "conda-root-py"
  },
  "language_info": {
   "codemirror_mode": {
    "name": "ipython",
    "version": 2
   },
   "file_extension": ".py",
   "mimetype": "text/x-python",
   "name": "python",
   "nbconvert_exporter": "python",
   "pygments_lexer": "ipython2",
   "version": "2.7.12"
  }
 },
 "nbformat": 4,
 "nbformat_minor": 1
}
